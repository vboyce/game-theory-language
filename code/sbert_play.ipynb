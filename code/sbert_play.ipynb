{
 "cells": [
  {
   "cell_type": "code",
   "execution_count": 1,
   "id": "346749df",
   "metadata": {},
   "outputs": [],
   "source": [
    "from sentence_transformers import SentenceTransformer\n",
    "model = SentenceTransformer('paraphrase-MiniLM-L6-v2')\n",
    "\n",
    "\n",
    "import numpy as np\n",
    "import pandas as pd"
   ]
  },
  {
   "cell_type": "code",
   "execution_count": 2,
   "id": "fceacf4c",
   "metadata": {},
   "outputs": [],
   "source": [
    "\n",
    "#sample=pd.read_csv('../sample.csv', encoding='latin-1')\n",
    "sample=pd.read_csv('pre_sbert.csv', encoding='latin-1')\n",
    "sentence_list=sample['sentence'].tolist()\n"
   ]
  },
  {
   "cell_type": "code",
   "execution_count": 3,
   "id": "285a0f42",
   "metadata": {},
   "outputs": [],
   "source": [
    "#Sentences are encoded by calling model.encode()\n",
    "embeddings = model.encode(sentence_list)"
   ]
  },
  {
   "cell_type": "code",
   "execution_count": 4,
   "id": "23012fc5",
   "metadata": {},
   "outputs": [],
   "source": [
    "#np.save('../sample_sbert.npy', embeddings)\n",
    "np.save('post_sbert.npy', embeddings)"
   ]
  }
 ],
 "metadata": {
  "kernelspec": {
   "display_name": "nlu",
   "language": "python",
   "name": "nlu"
  },
  "language_info": {
   "codemirror_mode": {
    "name": "ipython",
    "version": 3
   },
   "file_extension": ".py",
   "mimetype": "text/x-python",
   "name": "python",
   "nbconvert_exporter": "python",
   "pygments_lexer": "ipython3",
   "version": "3.9.7"
  }
 },
 "nbformat": 4,
 "nbformat_minor": 5
}
